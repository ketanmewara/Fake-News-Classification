{
  "nbformat": 4,
  "nbformat_minor": 0,
  "metadata": {
    "kernelspec": {
      "display_name": "Python 3",
      "language": "python",
      "name": "python3"
    },
    "language_info": {
      "codemirror_mode": {
        "name": "ipython",
        "version": 3
      },
      "file_extension": ".py",
      "mimetype": "text/x-python",
      "name": "python",
      "nbconvert_exporter": "python",
      "pygments_lexer": "ipython3",
      "version": "3.8.5"
    },
    "colab": {
      "name": "Fake_News_Classifier_Using_LSTM.ipynb",
      "provenance": [],
      "collapsed_sections": []
    },
    "accelerator": "GPU"
  },
  "cells": [
    {
      "cell_type": "markdown",
      "metadata": {
        "id": "4M_y7cK7OgO0"
      },
      "source": [
        "## Fake News Classifier Using LSTM\n",
        "\n",
        "About Dataset - Build a system to identify unreliable and Fake news articles\n",
        "\n",
        "1. id: unique id for a news article\n",
        "2. title: the title of a news article\n",
        "3. author: author of the news article\n",
        "4. text: the text of the article; could be incomplete\n",
        "5. label: a label that marks the article as potentially unreliable"
      ]
    },
    {
      "cell_type": "code",
      "metadata": {
        "id": "86nPyyP8OgPB"
      },
      "source": [
        "import pandas as pd"
      ],
      "execution_count": null,
      "outputs": []
    },
    {
      "cell_type": "code",
      "metadata": {
        "id": "d0ZwE8cwOgPE"
      },
      "source": [
        "df = pd.read_csv('/content/train/train.csv') "
      ],
      "execution_count": null,
      "outputs": []
    },
    {
      "cell_type": "code",
      "metadata": {
        "id": "i2CUICnUOgPG",
        "colab": {
          "base_uri": "https://localhost:8080/",
          "height": 337
        },
        "outputId": "a4ddb6d4-c4d0-485a-ebd6-d6a079400df2"
      },
      "source": [
        "df.head()"
      ],
      "execution_count": null,
      "outputs": [
        {
          "output_type": "execute_result",
          "data": {
            "text/html": [
              "\n",
              "  <div id=\"df-6b083afc-aba8-4af7-9e03-ce3f9f8eb903\">\n",
              "    <div class=\"colab-df-container\">\n",
              "      <div>\n",
              "<style scoped>\n",
              "    .dataframe tbody tr th:only-of-type {\n",
              "        vertical-align: middle;\n",
              "    }\n",
              "\n",
              "    .dataframe tbody tr th {\n",
              "        vertical-align: top;\n",
              "    }\n",
              "\n",
              "    .dataframe thead th {\n",
              "        text-align: right;\n",
              "    }\n",
              "</style>\n",
              "<table border=\"1\" class=\"dataframe\">\n",
              "  <thead>\n",
              "    <tr style=\"text-align: right;\">\n",
              "      <th></th>\n",
              "      <th>id</th>\n",
              "      <th>title</th>\n",
              "      <th>author</th>\n",
              "      <th>text</th>\n",
              "      <th>label</th>\n",
              "    </tr>\n",
              "  </thead>\n",
              "  <tbody>\n",
              "    <tr>\n",
              "      <th>0</th>\n",
              "      <td>0</td>\n",
              "      <td>House Dem Aide: We Didn’t Even See Comey’s Let...</td>\n",
              "      <td>Darrell Lucus</td>\n",
              "      <td>House Dem Aide: We Didn’t Even See Comey’s Let...</td>\n",
              "      <td>1</td>\n",
              "    </tr>\n",
              "    <tr>\n",
              "      <th>1</th>\n",
              "      <td>1</td>\n",
              "      <td>FLYNN: Hillary Clinton, Big Woman on Campus - ...</td>\n",
              "      <td>Daniel J. Flynn</td>\n",
              "      <td>Ever get the feeling your life circles the rou...</td>\n",
              "      <td>0</td>\n",
              "    </tr>\n",
              "    <tr>\n",
              "      <th>2</th>\n",
              "      <td>2</td>\n",
              "      <td>Why the Truth Might Get You Fired</td>\n",
              "      <td>Consortiumnews.com</td>\n",
              "      <td>Why the Truth Might Get You Fired October 29, ...</td>\n",
              "      <td>1</td>\n",
              "    </tr>\n",
              "    <tr>\n",
              "      <th>3</th>\n",
              "      <td>3</td>\n",
              "      <td>15 Civilians Killed In Single US Airstrike Hav...</td>\n",
              "      <td>Jessica Purkiss</td>\n",
              "      <td>Videos 15 Civilians Killed In Single US Airstr...</td>\n",
              "      <td>1</td>\n",
              "    </tr>\n",
              "    <tr>\n",
              "      <th>4</th>\n",
              "      <td>4</td>\n",
              "      <td>Iranian woman jailed for fictional unpublished...</td>\n",
              "      <td>Howard Portnoy</td>\n",
              "      <td>Print \\nAn Iranian woman has been sentenced to...</td>\n",
              "      <td>1</td>\n",
              "    </tr>\n",
              "  </tbody>\n",
              "</table>\n",
              "</div>\n",
              "      <button class=\"colab-df-convert\" onclick=\"convertToInteractive('df-6b083afc-aba8-4af7-9e03-ce3f9f8eb903')\"\n",
              "              title=\"Convert this dataframe to an interactive table.\"\n",
              "              style=\"display:none;\">\n",
              "        \n",
              "  <svg xmlns=\"http://www.w3.org/2000/svg\" height=\"24px\"viewBox=\"0 0 24 24\"\n",
              "       width=\"24px\">\n",
              "    <path d=\"M0 0h24v24H0V0z\" fill=\"none\"/>\n",
              "    <path d=\"M18.56 5.44l.94 2.06.94-2.06 2.06-.94-2.06-.94-.94-2.06-.94 2.06-2.06.94zm-11 1L8.5 8.5l.94-2.06 2.06-.94-2.06-.94L8.5 2.5l-.94 2.06-2.06.94zm10 10l.94 2.06.94-2.06 2.06-.94-2.06-.94-.94-2.06-.94 2.06-2.06.94z\"/><path d=\"M17.41 7.96l-1.37-1.37c-.4-.4-.92-.59-1.43-.59-.52 0-1.04.2-1.43.59L10.3 9.45l-7.72 7.72c-.78.78-.78 2.05 0 2.83L4 21.41c.39.39.9.59 1.41.59.51 0 1.02-.2 1.41-.59l7.78-7.78 2.81-2.81c.8-.78.8-2.07 0-2.86zM5.41 20L4 18.59l7.72-7.72 1.47 1.35L5.41 20z\"/>\n",
              "  </svg>\n",
              "      </button>\n",
              "      \n",
              "  <style>\n",
              "    .colab-df-container {\n",
              "      display:flex;\n",
              "      flex-wrap:wrap;\n",
              "      gap: 12px;\n",
              "    }\n",
              "\n",
              "    .colab-df-convert {\n",
              "      background-color: #E8F0FE;\n",
              "      border: none;\n",
              "      border-radius: 50%;\n",
              "      cursor: pointer;\n",
              "      display: none;\n",
              "      fill: #1967D2;\n",
              "      height: 32px;\n",
              "      padding: 0 0 0 0;\n",
              "      width: 32px;\n",
              "    }\n",
              "\n",
              "    .colab-df-convert:hover {\n",
              "      background-color: #E2EBFA;\n",
              "      box-shadow: 0px 1px 2px rgba(60, 64, 67, 0.3), 0px 1px 3px 1px rgba(60, 64, 67, 0.15);\n",
              "      fill: #174EA6;\n",
              "    }\n",
              "\n",
              "    [theme=dark] .colab-df-convert {\n",
              "      background-color: #3B4455;\n",
              "      fill: #D2E3FC;\n",
              "    }\n",
              "\n",
              "    [theme=dark] .colab-df-convert:hover {\n",
              "      background-color: #434B5C;\n",
              "      box-shadow: 0px 1px 3px 1px rgba(0, 0, 0, 0.15);\n",
              "      filter: drop-shadow(0px 1px 2px rgba(0, 0, 0, 0.3));\n",
              "      fill: #FFFFFF;\n",
              "    }\n",
              "  </style>\n",
              "\n",
              "      <script>\n",
              "        const buttonEl =\n",
              "          document.querySelector('#df-6b083afc-aba8-4af7-9e03-ce3f9f8eb903 button.colab-df-convert');\n",
              "        buttonEl.style.display =\n",
              "          google.colab.kernel.accessAllowed ? 'block' : 'none';\n",
              "\n",
              "        async function convertToInteractive(key) {\n",
              "          const element = document.querySelector('#df-6b083afc-aba8-4af7-9e03-ce3f9f8eb903');\n",
              "          const dataTable =\n",
              "            await google.colab.kernel.invokeFunction('convertToInteractive',\n",
              "                                                     [key], {});\n",
              "          if (!dataTable) return;\n",
              "\n",
              "          const docLinkHtml = 'Like what you see? Visit the ' +\n",
              "            '<a target=\"_blank\" href=https://colab.research.google.com/notebooks/data_table.ipynb>data table notebook</a>'\n",
              "            + ' to learn more about interactive tables.';\n",
              "          element.innerHTML = '';\n",
              "          dataTable['output_type'] = 'display_data';\n",
              "          await google.colab.output.renderOutput(dataTable, element);\n",
              "          const docLink = document.createElement('div');\n",
              "          docLink.innerHTML = docLinkHtml;\n",
              "          element.appendChild(docLink);\n",
              "        }\n",
              "      </script>\n",
              "    </div>\n",
              "  </div>\n",
              "  "
            ],
            "text/plain": [
              "   id  ... label\n",
              "0   0  ...     1\n",
              "1   1  ...     0\n",
              "2   2  ...     1\n",
              "3   3  ...     1\n",
              "4   4  ...     1\n",
              "\n",
              "[5 rows x 5 columns]"
            ]
          },
          "metadata": {},
          "execution_count": 11
        }
      ]
    },
    {
      "cell_type": "code",
      "metadata": {
        "id": "aPjNP8KFOgPJ",
        "colab": {
          "base_uri": "https://localhost:8080/"
        },
        "outputId": "2347a1aa-13a6-4674-e7ad-84de5a2b8acd"
      },
      "source": [
        "df.info()"
      ],
      "execution_count": null,
      "outputs": [
        {
          "output_type": "stream",
          "name": "stdout",
          "text": [
            "<class 'pandas.core.frame.DataFrame'>\n",
            "RangeIndex: 20800 entries, 0 to 20799\n",
            "Data columns (total 5 columns):\n",
            " #   Column  Non-Null Count  Dtype \n",
            "---  ------  --------------  ----- \n",
            " 0   id      20800 non-null  int64 \n",
            " 1   title   20242 non-null  object\n",
            " 2   author  18843 non-null  object\n",
            " 3   text    20761 non-null  object\n",
            " 4   label   20800 non-null  int64 \n",
            "dtypes: int64(2), object(3)\n",
            "memory usage: 812.6+ KB\n"
          ]
        }
      ]
    },
    {
      "cell_type": "code",
      "metadata": {
        "id": "MdAbz3OFOgPL",
        "colab": {
          "base_uri": "https://localhost:8080/"
        },
        "outputId": "0e4afb4f-c696-4e7c-b123-b0223de9eb73"
      },
      "source": [
        "df.isnull().sum() # Dataset have null or nan value"
      ],
      "execution_count": null,
      "outputs": [
        {
          "output_type": "execute_result",
          "data": {
            "text/plain": [
              "id           0\n",
              "title      558\n",
              "author    1957\n",
              "text        39\n",
              "label        0\n",
              "dtype: int64"
            ]
          },
          "metadata": {},
          "execution_count": 13
        }
      ]
    },
    {
      "cell_type": "code",
      "metadata": {
        "id": "AYfedADkOgPN"
      },
      "source": [
        "###Drop Nan Values\n",
        "df=df.dropna()"
      ],
      "execution_count": null,
      "outputs": []
    },
    {
      "cell_type": "code",
      "metadata": {
        "id": "UQbUf3YEOgPP",
        "colab": {
          "base_uri": "https://localhost:8080/"
        },
        "outputId": "eca2f431-2be1-406a-85c6-9d9f800d79bc"
      },
      "source": [
        "df.shape"
      ],
      "execution_count": null,
      "outputs": [
        {
          "output_type": "execute_result",
          "data": {
            "text/plain": [
              "(18285, 5)"
            ]
          },
          "metadata": {},
          "execution_count": 15
        }
      ]
    },
    {
      "cell_type": "code",
      "metadata": {
        "id": "LVGPLooOOgPR"
      },
      "source": [
        "## Get the Independent Features\n",
        "\n",
        "X=df.drop('label',axis=1)"
      ],
      "execution_count": null,
      "outputs": []
    },
    {
      "cell_type": "code",
      "metadata": {
        "id": "w7mur6SNOgPS"
      },
      "source": [
        "## Get the Dependent features\n",
        "y=df['label']"
      ],
      "execution_count": null,
      "outputs": []
    },
    {
      "cell_type": "code",
      "metadata": {
        "id": "C2MagYbqOgPU",
        "colab": {
          "base_uri": "https://localhost:8080/"
        },
        "outputId": "ce4260fd-7e57-4070-8efa-9ec86bb000ab"
      },
      "source": [
        "X.shape, y.shape"
      ],
      "execution_count": null,
      "outputs": [
        {
          "output_type": "execute_result",
          "data": {
            "text/plain": [
              "((18285, 4), (18285,))"
            ]
          },
          "metadata": {},
          "execution_count": 18
        }
      ]
    },
    {
      "cell_type": "markdown",
      "metadata": {
        "id": "NdM9LV9hOgPX"
      },
      "source": [
        "### Data Preprocessing"
      ]
    },
    {
      "cell_type": "code",
      "metadata": {
        "id": "defeBd5rOgPY"
      },
      "source": [
        "messages=X.copy()"
      ],
      "execution_count": null,
      "outputs": []
    },
    {
      "cell_type": "code",
      "metadata": {
        "id": "QON9qIEjOgPZ",
        "colab": {
          "base_uri": "https://localhost:8080/",
          "height": 36
        },
        "outputId": "5850f92e-d136-489c-8f45-487f965572c5"
      },
      "source": [
        "messages['title'][1]"
      ],
      "execution_count": null,
      "outputs": [
        {
          "output_type": "execute_result",
          "data": {
            "application/vnd.google.colaboratory.intrinsic+json": {
              "type": "string"
            },
            "text/plain": [
              "'FLYNN: Hillary Clinton, Big Woman on Campus - Breitbart'"
            ]
          },
          "metadata": {},
          "execution_count": 20
        }
      ]
    },
    {
      "cell_type": "code",
      "metadata": {
        "id": "tVOemdUXOgPa"
      },
      "source": [
        "messages.reset_index(inplace=True)"
      ],
      "execution_count": null,
      "outputs": []
    },
    {
      "cell_type": "code",
      "metadata": {
        "id": "r6R444nNOgPb"
      },
      "source": [
        "import nltk\n",
        "import re\n",
        "from nltk.corpus import stopwords"
      ],
      "execution_count": null,
      "outputs": []
    },
    {
      "cell_type": "code",
      "metadata": {
        "id": "hEAETpf8OgPf",
        "colab": {
          "base_uri": "https://localhost:8080/"
        },
        "outputId": "d866bdf5-d5d3-49fc-df71-1551310c9408"
      },
      "source": [
        "nltk.download('stopwords')"
      ],
      "execution_count": null,
      "outputs": [
        {
          "output_type": "stream",
          "name": "stdout",
          "text": [
            "[nltk_data] Downloading package stopwords to /root/nltk_data...\n",
            "[nltk_data]   Unzipping corpora/stopwords.zip.\n"
          ]
        },
        {
          "output_type": "execute_result",
          "data": {
            "text/plain": [
              "True"
            ]
          },
          "metadata": {},
          "execution_count": 23
        }
      ]
    },
    {
      "cell_type": "markdown",
      "metadata": {
        "id": "o1O3NXDVRzRM"
      },
      "source": [
        "The Porter stemming algorithm (or 'Porter stemmer') is a process for removing the commoner morphological and inflexional endings from words in English."
      ]
    },
    {
      "cell_type": "code",
      "metadata": {
        "id": "xp7lWC4rRt4L"
      },
      "source": [
        "from nltk.stem.porter import PorterStemmer\n",
        "ps = PorterStemmer()"
      ],
      "execution_count": null,
      "outputs": []
    },
    {
      "cell_type": "code",
      "metadata": {
        "id": "w5WNDXyzOgPg"
      },
      "source": [
        "### Dataset Preprocessing\n",
        "\n",
        "corpus = []\n",
        "for i in range(0, len(messages)):\n",
        "#     print(i)\n",
        "    review = re.sub('[^a-zA-Z]', ' ', messages['title'][i])    #clean the data\n",
        "    review = review.lower()\n",
        "    review = review.split()\n",
        "    \n",
        "    review = [ps.stem(word) for word in review if not word in stopwords.words('english')]\n",
        "    review = ' '.join(review)\n",
        "    corpus.append(review)"
      ],
      "execution_count": null,
      "outputs": []
    },
    {
      "cell_type": "code",
      "metadata": {
        "id": "bz24B-a0OgPh",
        "colab": {
          "base_uri": "https://localhost:8080/"
        },
        "outputId": "6e0aa050-be43-45b1-85a7-4bc01cde6145"
      },
      "source": [
        "corpus[:10]   "
      ],
      "execution_count": null,
      "outputs": [
        {
          "output_type": "execute_result",
          "data": {
            "text/plain": [
              "['hous dem aid even see comey letter jason chaffetz tweet',\n",
              " 'flynn hillari clinton big woman campu breitbart',\n",
              " 'truth might get fire',\n",
              " 'civilian kill singl us airstrik identifi',\n",
              " 'iranian woman jail fiction unpublish stori woman stone death adulteri',\n",
              " 'jacki mason hollywood would love trump bomb north korea lack tran bathroom exclus video breitbart',\n",
              " 'beno hamon win french socialist parti presidenti nomin new york time',\n",
              " 'back channel plan ukrain russia courtesi trump associ new york time',\n",
              " 'obama organ action partner soro link indivis disrupt trump agenda',\n",
              " 'bbc comedi sketch real housew isi caus outrag']"
            ]
          },
          "metadata": {},
          "execution_count": 26
        }
      ]
    },
    {
      "cell_type": "code",
      "metadata": {
        "id": "ABhSPN0rOgPi"
      },
      "source": [
        "import tensorflow as tf"
      ],
      "execution_count": null,
      "outputs": []
    },
    {
      "cell_type": "code",
      "metadata": {
        "colab": {
          "base_uri": "https://localhost:8080/",
          "height": 36
        },
        "id": "KIbfhxraOgPj",
        "outputId": "10445815-0834-4abb-c103-a9fe1ac36c8a"
      },
      "source": [
        "tf.__version__"
      ],
      "execution_count": null,
      "outputs": [
        {
          "output_type": "execute_result",
          "data": {
            "application/vnd.google.colaboratory.intrinsic+json": {
              "type": "string"
            },
            "text/plain": [
              "'2.7.0'"
            ]
          },
          "metadata": {},
          "execution_count": 28
        }
      ]
    },
    {
      "cell_type": "code",
      "metadata": {
        "id": "7utjom1UOgPk"
      },
      "source": [
        "from tensorflow.keras.layers import Embedding\n",
        "from tensorflow.keras.preprocessing.sequence import pad_sequences\n",
        "from tensorflow.keras.models import Sequential\n",
        "from tensorflow.keras.preprocessing.text import one_hot\n",
        "from tensorflow.keras.layers import LSTM\n",
        "from tensorflow.keras.layers import Dense"
      ],
      "execution_count": null,
      "outputs": []
    },
    {
      "cell_type": "code",
      "metadata": {
        "id": "oVEId3QkOgPl"
      },
      "source": [
        "### Vocabulary size\n",
        "voc_size=5000"
      ],
      "execution_count": null,
      "outputs": []
    },
    {
      "cell_type": "markdown",
      "metadata": {
        "id": "h5o2VIjNOgPl"
      },
      "source": [
        "### One Hot Representation"
      ]
    },
    {
      "cell_type": "code",
      "metadata": {
        "id": "E4EdtWpVOgPm",
        "colab": {
          "base_uri": "https://localhost:8080/"
        },
        "outputId": "0e88cbf9-7711-42a4-cfb8-6e0f55dc7bc1"
      },
      "source": [
        "onehot_repr=[one_hot(words,voc_size)for words in corpus] \n",
        "onehot_repr[:10]"
      ],
      "execution_count": null,
      "outputs": [
        {
          "output_type": "execute_result",
          "data": {
            "text/plain": [
              "[[1704, 1020, 188, 3507, 151, 135, 4830, 505, 1181, 4910],\n",
              " [2414, 2970, 1785, 1551, 2037, 3891, 825],\n",
              " [4814, 3030, 4729, 1391],\n",
              " [1806, 16, 1370, 2147, 399, 1276],\n",
              " [1520, 2037, 155, 3318, 3599, 1828, 2037, 1959, 4895, 2425],\n",
              " [3449,\n",
              "  3056,\n",
              "  2675,\n",
              "  4026,\n",
              "  519,\n",
              "  1888,\n",
              "  1020,\n",
              "  1698,\n",
              "  798,\n",
              "  611,\n",
              "  1251,\n",
              "  540,\n",
              "  2874,\n",
              "  1545,\n",
              "  825],\n",
              " [2031, 2246, 1608, 455, 443, 1006, 1052, 501, 3561, 1417, 214],\n",
              " [1443, 4380, 1993, 1853, 3138, 3522, 1888, 3042, 3561, 1417, 214],\n",
              " [496, 1290, 1494, 472, 4848, 2188, 2251, 4769, 1888, 564],\n",
              " [4627, 2786, 4489, 2073, 989, 739, 2914, 2106]]"
            ]
          },
          "metadata": {},
          "execution_count": 31
        }
      ]
    },
    {
      "cell_type": "markdown",
      "metadata": {
        "id": "Di_dFv9KOgPn"
      },
      "source": [
        "### Embedding Representation"
      ]
    },
    {
      "cell_type": "code",
      "metadata": {
        "id": "l-5iGwjQOgPn",
        "colab": {
          "base_uri": "https://localhost:8080/"
        },
        "outputId": "1395968d-cd0f-4ab3-88bb-bf6bdcdbc114"
      },
      "source": [
        "sent_length=20\n",
        "embedded_docs=pad_sequences(onehot_repr,padding='pre',maxlen=sent_length)\n",
        "print(embedded_docs)"
      ],
      "execution_count": null,
      "outputs": [
        {
          "output_type": "stream",
          "name": "stdout",
          "text": [
            "[[   0    0    0 ...  505 1181 4910]\n",
            " [   0    0    0 ... 2037 3891  825]\n",
            " [   0    0    0 ... 3030 4729 1391]\n",
            " ...\n",
            " [   0    0    0 ... 3561 1417  214]\n",
            " [   0    0    0 ...  277 2250 1952]\n",
            " [   0    0    0 ... 3042 3912 1861]]\n"
          ]
        }
      ]
    },
    {
      "cell_type": "code",
      "metadata": {
        "id": "dWomYxU2OgPo",
        "colab": {
          "base_uri": "https://localhost:8080/"
        },
        "outputId": "2a0d959d-8cd2-4ef1-c8c0-d7a1b5c5481d"
      },
      "source": [
        "embedded_docs[0]"
      ],
      "execution_count": null,
      "outputs": [
        {
          "output_type": "execute_result",
          "data": {
            "text/plain": [
              "array([   0,    0,    0,    0,    0,    0,    0,    0,    0,    0, 1704,\n",
              "       1020,  188, 3507,  151,  135, 4830,  505, 1181, 4910], dtype=int32)"
            ]
          },
          "metadata": {},
          "execution_count": 33
        }
      ]
    },
    {
      "cell_type": "code",
      "metadata": {
        "scrolled": true,
        "id": "-3x0fKpUOgPp",
        "colab": {
          "base_uri": "https://localhost:8080/"
        },
        "outputId": "5ffbcaae-3c12-4efd-c8bf-953e2e566954"
      },
      "source": [
        "## Creating model\n",
        "embedding_vector_features=40\n",
        "model=Sequential()\n",
        "model.add(Embedding(voc_size,embedding_vector_features,input_length=sent_length))\n",
        "model.add(LSTM(100))\n",
        "model.add(Dense(1,activation='sigmoid'))\n",
        "model.compile(loss='binary_crossentropy',optimizer='adam',metrics=['accuracy'])\n",
        "print(model.summary())"
      ],
      "execution_count": null,
      "outputs": [
        {
          "output_type": "stream",
          "name": "stdout",
          "text": [
            "Model: \"sequential\"\n",
            "_________________________________________________________________\n",
            " Layer (type)                Output Shape              Param #   \n",
            "=================================================================\n",
            " embedding (Embedding)       (None, 20, 40)            200000    \n",
            "                                                                 \n",
            " lstm (LSTM)                 (None, 100)               56400     \n",
            "                                                                 \n",
            " dense (Dense)               (None, 1)                 101       \n",
            "                                                                 \n",
            "=================================================================\n",
            "Total params: 256,501\n",
            "Trainable params: 256,501\n",
            "Non-trainable params: 0\n",
            "_________________________________________________________________\n",
            "None\n"
          ]
        }
      ]
    },
    {
      "cell_type": "code",
      "metadata": {
        "id": "cS-VfBWkOgPq",
        "colab": {
          "base_uri": "https://localhost:8080/"
        },
        "outputId": "9ce9a72c-c835-49bc-c53c-ea8b2a2be58f"
      },
      "source": [
        "len(embedded_docs),y.shape"
      ],
      "execution_count": null,
      "outputs": [
        {
          "output_type": "execute_result",
          "data": {
            "text/plain": [
              "(18285, (18285,))"
            ]
          },
          "metadata": {},
          "execution_count": 35
        }
      ]
    },
    {
      "cell_type": "code",
      "metadata": {
        "id": "F005BB3XOgPq"
      },
      "source": [
        "#converted feature into numpy array\n",
        "import numpy as np\n",
        "X_final=np.array(embedded_docs)\n",
        "y_final=np.array(y)"
      ],
      "execution_count": null,
      "outputs": []
    },
    {
      "cell_type": "code",
      "metadata": {
        "id": "11JNwo1qOgPr",
        "colab": {
          "base_uri": "https://localhost:8080/"
        },
        "outputId": "6e43dd82-9396-47c9-e482-f2642cfd88c0"
      },
      "source": [
        "X_final.shape,y_final.shape"
      ],
      "execution_count": null,
      "outputs": [
        {
          "output_type": "execute_result",
          "data": {
            "text/plain": [
              "((18285, 20), (18285,))"
            ]
          },
          "metadata": {},
          "execution_count": 37
        }
      ]
    },
    {
      "cell_type": "code",
      "metadata": {
        "id": "v9mWlSw4OgPr"
      },
      "source": [
        "from sklearn.model_selection import train_test_split\n",
        "X_train, X_test, y_train, y_test = train_test_split(X_final, y_final, test_size=0.33, random_state=42)"
      ],
      "execution_count": null,
      "outputs": []
    },
    {
      "cell_type": "code",
      "metadata": {
        "id": "-_tp23Q_OgPs",
        "colab": {
          "base_uri": "https://localhost:8080/"
        },
        "outputId": "91f8a0d5-4ac0-4559-ef24-4232feedf9ef"
      },
      "source": [
        "X_train.shape, X_test.shape, y_train.shape, y_test.shape"
      ],
      "execution_count": null,
      "outputs": [
        {
          "output_type": "execute_result",
          "data": {
            "text/plain": [
              "((12250, 20), (6035, 20), (12250,), (6035,))"
            ]
          },
          "metadata": {},
          "execution_count": 39
        }
      ]
    },
    {
      "cell_type": "markdown",
      "metadata": {
        "id": "hq2MW4H6OgPt"
      },
      "source": [
        "### Model Training"
      ]
    },
    {
      "cell_type": "code",
      "metadata": {
        "id": "q_q4VqEuOgPt",
        "colab": {
          "base_uri": "https://localhost:8080/"
        },
        "outputId": "e3defa02-da8f-426b-9c90-53fd3abc4f50"
      },
      "source": [
        "### Finally Training\n",
        "model.fit(X_train,y_train,validation_data=(X_test,y_test),epochs=20,batch_size=64)"
      ],
      "execution_count": null,
      "outputs": [
        {
          "output_type": "stream",
          "name": "stdout",
          "text": [
            "Epoch 1/20\n",
            "192/192 [==============================] - 8s 16ms/step - loss: 0.3304 - accuracy: 0.8404 - val_loss: 0.1914 - val_accuracy: 0.9208\n",
            "Epoch 2/20\n",
            "192/192 [==============================] - 2s 12ms/step - loss: 0.1387 - accuracy: 0.9478 - val_loss: 0.1946 - val_accuracy: 0.9208\n",
            "Epoch 3/20\n",
            "192/192 [==============================] - 3s 13ms/step - loss: 0.0916 - accuracy: 0.9642 - val_loss: 0.2136 - val_accuracy: 0.9218\n",
            "Epoch 4/20\n",
            "192/192 [==============================] - 2s 12ms/step - loss: 0.0629 - accuracy: 0.9781 - val_loss: 0.2632 - val_accuracy: 0.9185\n",
            "Epoch 5/20\n",
            "192/192 [==============================] - 2s 12ms/step - loss: 0.0390 - accuracy: 0.9863 - val_loss: 0.3074 - val_accuracy: 0.9110\n",
            "Epoch 6/20\n",
            "192/192 [==============================] - 3s 14ms/step - loss: 0.0194 - accuracy: 0.9935 - val_loss: 0.3863 - val_accuracy: 0.9180\n",
            "Epoch 7/20\n",
            "192/192 [==============================] - 3s 13ms/step - loss: 0.0123 - accuracy: 0.9961 - val_loss: 0.4807 - val_accuracy: 0.9165\n",
            "Epoch 8/20\n",
            "192/192 [==============================] - 3s 13ms/step - loss: 0.0084 - accuracy: 0.9975 - val_loss: 0.4577 - val_accuracy: 0.9163\n",
            "Epoch 9/20\n",
            "192/192 [==============================] - 2s 12ms/step - loss: 0.0072 - accuracy: 0.9978 - val_loss: 0.4946 - val_accuracy: 0.9168\n",
            "Epoch 10/20\n",
            "192/192 [==============================] - 3s 13ms/step - loss: 0.0040 - accuracy: 0.9989 - val_loss: 0.5229 - val_accuracy: 0.9114\n",
            "Epoch 11/20\n",
            "192/192 [==============================] - 3s 13ms/step - loss: 0.0028 - accuracy: 0.9995 - val_loss: 0.7138 - val_accuracy: 0.9069\n",
            "Epoch 12/20\n",
            "192/192 [==============================] - 3s 13ms/step - loss: 8.0257e-04 - accuracy: 0.9999 - val_loss: 0.7170 - val_accuracy: 0.9137\n",
            "Epoch 13/20\n",
            "192/192 [==============================] - 3s 14ms/step - loss: 2.1764e-04 - accuracy: 1.0000 - val_loss: 0.7133 - val_accuracy: 0.9123\n",
            "Epoch 14/20\n",
            "192/192 [==============================] - 3s 14ms/step - loss: 1.2648e-04 - accuracy: 1.0000 - val_loss: 0.7379 - val_accuracy: 0.9128\n",
            "Epoch 15/20\n",
            "192/192 [==============================] - 2s 12ms/step - loss: 7.6902e-05 - accuracy: 1.0000 - val_loss: 0.7481 - val_accuracy: 0.9123\n",
            "Epoch 16/20\n",
            "192/192 [==============================] - 2s 12ms/step - loss: 6.0126e-05 - accuracy: 1.0000 - val_loss: 0.7646 - val_accuracy: 0.9132\n",
            "Epoch 17/20\n",
            "192/192 [==============================] - 3s 14ms/step - loss: 4.8033e-05 - accuracy: 1.0000 - val_loss: 0.7751 - val_accuracy: 0.9130\n",
            "Epoch 18/20\n",
            "192/192 [==============================] - 2s 12ms/step - loss: 4.1831e-05 - accuracy: 1.0000 - val_loss: 0.7837 - val_accuracy: 0.9127\n",
            "Epoch 19/20\n",
            "192/192 [==============================] - 3s 13ms/step - loss: 3.4545e-05 - accuracy: 1.0000 - val_loss: 0.7937 - val_accuracy: 0.9123\n",
            "Epoch 20/20\n",
            "192/192 [==============================] - 3s 13ms/step - loss: 2.9253e-05 - accuracy: 1.0000 - val_loss: 0.8118 - val_accuracy: 0.9132\n"
          ]
        },
        {
          "output_type": "execute_result",
          "data": {
            "text/plain": [
              "<keras.callbacks.History at 0x7f2647ebcd50>"
            ]
          },
          "metadata": {},
          "execution_count": 40
        }
      ]
    },
    {
      "cell_type": "code",
      "source": [
        "# import os\n",
        "# model_version=max([int(i) for i in os.listdir(\"/content/models\") + [0]])+1\n",
        "# model.save(f\"/content/models/{model_version}\")"
      ],
      "metadata": {
        "id": "RFQ174s1O5hT"
      },
      "execution_count": null,
      "outputs": []
    },
    {
      "cell_type": "code",
      "source": [
        "# model.save(\"/content/models/model1.h5\")"
      ],
      "metadata": {
        "id": "KKXvZNcy9LO2"
      },
      "execution_count": null,
      "outputs": []
    },
    {
      "cell_type": "code",
      "source": [
        "# !zip -r models.zip models/"
      ],
      "metadata": {
        "id": "qyoqBZplDlgL"
      },
      "execution_count": null,
      "outputs": []
    },
    {
      "cell_type": "code",
      "source": [
        "# filename = 'FakeNews-Classifier-RNN-model.pkl'\n",
        "# pickle.dump(model, open(filename, 'wb'))"
      ],
      "metadata": {
        "id": "ZbxEztLkxMSU"
      },
      "execution_count": null,
      "outputs": []
    },
    {
      "cell_type": "markdown",
      "metadata": {
        "id": "_wwdmvJZOgPv"
      },
      "source": [
        "### Performance Metrics And Accuracy"
      ]
    },
    {
      "cell_type": "code",
      "source": [
        "X_test"
      ],
      "metadata": {
        "colab": {
          "base_uri": "https://localhost:8080/"
        },
        "id": "E8dz0CvCpsmD",
        "outputId": "da88f663-524c-4994-d3f4-8d5a298a0e37"
      },
      "execution_count": null,
      "outputs": [
        {
          "output_type": "execute_result",
          "data": {
            "text/plain": [
              "array([[   0,    0,    0, ..., 1573, 3064, 4351],\n",
              "       [   0,    0,    0, ..., 3964, 2630,  672],\n",
              "       [   0,    0,    0, ..., 3964, 2630,  672],\n",
              "       ...,\n",
              "       [   0,    0,    0, ..., 3964, 2630,  672],\n",
              "       [   0,    0,    0, ...,    0,    0, 4294],\n",
              "       [   0,    0,    0, ..., 4417, 1469, 2427]], dtype=int32)"
            ]
          },
          "metadata": {},
          "execution_count": 42
        }
      ]
    },
    {
      "cell_type": "code",
      "source": [
        "y_test"
      ],
      "metadata": {
        "colab": {
          "base_uri": "https://localhost:8080/"
        },
        "id": "pfc_aslKqAPs",
        "outputId": "fd31cb3d-3d21-47d5-8db8-101e49583d86"
      },
      "execution_count": null,
      "outputs": [
        {
          "output_type": "execute_result",
          "data": {
            "text/plain": [
              "array([1, 0, 0, ..., 0, 1, 1])"
            ]
          },
          "metadata": {},
          "execution_count": 43
        }
      ]
    },
    {
      "cell_type": "code",
      "metadata": {
        "id": "WsC2REgdOgPw"
      },
      "source": [
        "# y_pred=model.predict(X_test)"
      ],
      "execution_count": null,
      "outputs": []
    },
    {
      "cell_type": "code",
      "metadata": {
        "id": "zjZlI4UmNxQ-"
      },
      "source": [
        "y_pred1 = (model.predict(X_test) > 0.5).astype(\"int32\")"
      ],
      "execution_count": null,
      "outputs": []
    },
    {
      "cell_type": "code",
      "metadata": {
        "colab": {
          "base_uri": "https://localhost:8080/"
        },
        "id": "mzlBfD1_N-xm",
        "outputId": "40313a34-cf1f-4844-e898-65459f1c0c00"
      },
      "source": [
        "y_pred1"
      ],
      "execution_count": null,
      "outputs": [
        {
          "output_type": "execute_result",
          "data": {
            "text/plain": [
              "array([[1],\n",
              "       [0],\n",
              "       [0],\n",
              "       ...,\n",
              "       [0],\n",
              "       [1],\n",
              "       [1]], dtype=int32)"
            ]
          },
          "metadata": {},
          "execution_count": 67
        }
      ]
    },
    {
      "cell_type": "code",
      "metadata": {
        "id": "-gt8tSvSOgPw"
      },
      "source": [
        "from sklearn.metrics import confusion_matrix"
      ],
      "execution_count": null,
      "outputs": []
    },
    {
      "cell_type": "code",
      "metadata": {
        "id": "IiwlDwSyOgPx",
        "colab": {
          "base_uri": "https://localhost:8080/"
        },
        "outputId": "49566b76-4ccb-4116-eb01-4a2f45421e2b"
      },
      "source": [
        "confusion_matrix(y_test,y_pred1)"
      ],
      "execution_count": null,
      "outputs": [
        {
          "output_type": "execute_result",
          "data": {
            "text/plain": [
              "array([[3100,  319],\n",
              "       [ 234, 2382]])"
            ]
          },
          "metadata": {},
          "execution_count": 68
        }
      ]
    },
    {
      "cell_type": "code",
      "metadata": {
        "id": "BEWXpBfAOgPy",
        "colab": {
          "base_uri": "https://localhost:8080/"
        },
        "outputId": "5a6dca2f-6b5e-475e-da05-58d1cf57ad31"
      },
      "source": [
        "from sklearn.metrics import accuracy_score\n",
        "accuracy_score(y_test,y_pred1)   #test accuracy"
      ],
      "execution_count": null,
      "outputs": [
        {
          "output_type": "execute_result",
          "data": {
            "text/plain": [
              "0.9083678541839271"
            ]
          },
          "metadata": {},
          "execution_count": 69
        }
      ]
    },
    {
      "cell_type": "code",
      "metadata": {
        "id": "rKUxI-ATOgPz"
      },
      "source": [
        ""
      ],
      "execution_count": null,
      "outputs": []
    },
    {
      "cell_type": "code",
      "source": [
        "def predict(data):\n",
        "  onehot_repr=[one_hot(words,voc_size)for words in data] \n",
        "  print(onehot_repr)\n",
        "  sent_length=20\n",
        "  embedded_docs=pad_sequences(onehot_repr,padding='pre',maxlen=sent_length)\n",
        "\n",
        "  return (model.predict(embedded_docs) > 0.5).astype(\"int32\")\n"
      ],
      "metadata": {
        "id": "FQ3GrWu3tUqn"
      },
      "execution_count": null,
      "outputs": []
    },
    {
      "cell_type": "code",
      "source": [
        "def embedding(data):\n",
        "  onehot_repr=[one_hot(words,voc_size)for words in data] \n",
        "  print(onehot_repr)\n",
        "  sent_length=20\n",
        "  \n",
        "  return pad_sequences(onehot_repr,padding='pre',maxlen=sent_length)"
      ],
      "metadata": {
        "id": "OrTk6jJwvjS4"
      },
      "execution_count": null,
      "outputs": []
    },
    {
      "cell_type": "code",
      "source": [
        "import pickle"
      ],
      "metadata": {
        "id": "JyVsFUHov5nG"
      },
      "execution_count": null,
      "outputs": []
    },
    {
      "cell_type": "code",
      "source": [
        "# Creating a pickle file for the CountVectorizer\n",
        "pickle.dump(embedding, open('embedding-transform.pkl', 'wb'))"
      ],
      "metadata": {
        "id": "9Ph-mbOFvzOH"
      },
      "execution_count": null,
      "outputs": []
    },
    {
      "cell_type": "code",
      "source": [
        "embedding = pickle.load(open('embedding-transform.pkl','rb'))"
      ],
      "metadata": {
        "id": "9Lpq_o--v-8f"
      },
      "execution_count": null,
      "outputs": []
    },
    {
      "cell_type": "code",
      "source": [
        "data = embedding(['obama organ action partner soro link indivis disrupt trump agenda'])"
      ],
      "metadata": {
        "colab": {
          "base_uri": "https://localhost:8080/"
        },
        "id": "6bRWyHIZv-3M",
        "outputId": "9ea82055-5139-42b1-82b4-0fe6ed1f0ae3"
      },
      "execution_count": null,
      "outputs": [
        {
          "output_type": "stream",
          "name": "stdout",
          "text": [
            "[[2916, 1528, 1861, 4159, 1009, 1882, 4961, 3491, 4294, 1359]]\n"
          ]
        }
      ]
    },
    {
      "cell_type": "code",
      "source": [
        "from keras.models import load_model\n",
        "model2 = load_model('my_model.h5')"
      ],
      "metadata": {
        "id": "fwyHlDFH9oZj"
      },
      "execution_count": null,
      "outputs": []
    },
    {
      "cell_type": "code",
      "source": [
        "(model2.predict(data)>0.5).astype(\"int32\")"
      ],
      "metadata": {
        "colab": {
          "base_uri": "https://localhost:8080/"
        },
        "id": "suH0OZKV9vOS",
        "outputId": "1b08d240-1b3e-4b38-8e50-24a49265ca91"
      },
      "execution_count": null,
      "outputs": [
        {
          "output_type": "execute_result",
          "data": {
            "text/plain": [
              "array([[0]], dtype=int32)"
            ]
          },
          "metadata": {},
          "execution_count": 126
        }
      ]
    },
    {
      "cell_type": "code",
      "source": [
        "model1 = pickle.load(open('/content/FakeNews-Classifier-RNN-model.pkl','rb'))"
      ],
      "metadata": {
        "id": "8nmc0Ymfv-xy"
      },
      "execution_count": null,
      "outputs": []
    },
    {
      "cell_type": "code",
      "source": [
        "(model1.predict(data)>0.5).astype(\"int32\")"
      ],
      "metadata": {
        "colab": {
          "base_uri": "https://localhost:8080/"
        },
        "id": "HV0kds-yv-u9",
        "outputId": "05b49d21-74eb-48ed-d8bc-5deb475a76e8"
      },
      "execution_count": null,
      "outputs": [
        {
          "output_type": "execute_result",
          "data": {
            "text/plain": [
              "array([[0]], dtype=int32)"
            ]
          },
          "metadata": {},
          "execution_count": 85
        }
      ]
    }
  ]
}